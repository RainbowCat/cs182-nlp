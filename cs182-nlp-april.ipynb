{
 "cells": [
  {
   "cell_type": "markdown",
   "metadata": {
    "id": "XghaLOekxmy3"
   },
   "source": [
    "# Global Setup"
   ]
  },
  {
   "cell_type": "code",
   "execution_count": 1,
   "metadata": {
    "executionInfo": {
     "elapsed": 3004,
     "status": "ok",
     "timestamp": 1620179942399,
     "user": {
      "displayName": "April Sin",
      "photoUrl": "https://lh3.googleusercontent.com/a-/AOh14GhaDqFCS_GukiW3QOJZA00jIXBT-PKdInhkliRZ6lc=s64",
      "userId": "09657090074134472846"
     },
     "user_tz": 420
    },
    "id": "teIgRhnAcOfK"
   },
   "outputs": [],
   "source": [
    "import os\n",
    "import sys\n",
    "from pathlib import Path\n",
    "\n",
    "import json\n",
    "import pandas as pd\n",
    "import random\n",
    "\n",
    "import torch\n",
    "from segtok import tokenizer\n",
    "from keras.preprocessing.sequence import pad_sequences\n",
    "import tqdm\n",
    "\n",
    "from vaderSentiment.vaderSentiment import SentimentIntensityAnalyzer\n",
    "\n",
    "import torch\n",
    "import torch.nn as nn\n",
    "import torch.optim as optim\n",
    "from torch.optim import lr_scheduler\n",
    "import numpy as np\n",
    "import torchvision\n",
    "from torchvision import datasets, models, transforms\n",
    "import matplotlib.pyplot as plt\n",
    "import time\n",
    "import os\n",
    "import copy\n",
    "\n",
    "import huggingface_hub"
   ]
  },
  {
   "cell_type": "code",
   "execution_count": null,
   "metadata": {
    "colab": {
     "base_uri": "https://localhost:8080/"
    },
    "executionInfo": {
     "elapsed": 2391,
     "status": "ok",
     "timestamp": 1620179942400,
     "user": {
      "displayName": "April Sin",
      "photoUrl": "https://lh3.googleusercontent.com/a-/AOh14GhaDqFCS_GukiW3QOJZA00jIXBT-PKdInhkliRZ6lc=s64",
      "userId": "09657090074134472846"
     },
     "user_tz": 420
    },
    "id": "C7dLS11DSV3z",
    "outputId": "2dc7c34c-ad3e-4200-84dd-ec5b3ab7ad9c"
   },
   "outputs": [],
   "source": [
    "# from google.colab import drive\n",
    "# drive.mount('/content/drive')"
   ]
  },
  {
   "cell_type": "code",
   "execution_count": 2,
   "metadata": {
    "executionInfo": {
     "elapsed": 1567,
     "status": "ok",
     "timestamp": 1620179942400,
     "user": {
      "displayName": "April Sin",
      "photoUrl": "https://lh3.googleusercontent.com/a-/AOh14GhaDqFCS_GukiW3QOJZA00jIXBT-PKdInhkliRZ6lc=s64",
      "userId": "09657090074134472846"
     },
     "user_tz": 420
    },
    "id": "lhLSVms9xmiZ"
   },
   "outputs": [],
   "source": [
    "# ROOT_FOLDER = Path(\"/content/drive/My Drive/cs182_final_project/cs182-nlp\")\n",
    "# DATA_FOLDER = ROOT_FOLDER / \"starter\"\n",
    "# sys.path.insert(0, ROOT_FOLDER)"
   ]
  },
  {
   "cell_type": "code",
   "execution_count": 3,
   "metadata": {
    "executionInfo": {
     "elapsed": 766,
     "status": "ok",
     "timestamp": 1620179942401,
     "user": {
      "displayName": "April Sin",
      "photoUrl": "https://lh3.googleusercontent.com/a-/AOh14GhaDqFCS_GukiW3QOJZA00jIXBT-PKdInhkliRZ6lc=s64",
      "userId": "09657090074134472846"
     },
     "user_tz": 420
    },
    "id": "T6NrAREFVU6N"
   },
   "outputs": [],
   "source": [
    "DATA_FOLDER = Path(\"starter\")"
   ]
  },
  {
   "cell_type": "code",
   "execution_count": 4,
   "metadata": {
    "colab": {
     "base_uri": "https://localhost:8080/",
     "height": 351
    },
    "executionInfo": {
     "elapsed": 559,
     "status": "error",
     "timestamp": 1620179944775,
     "user": {
      "displayName": "April Sin",
      "photoUrl": "https://lh3.googleusercontent.com/a-/AOh14GhaDqFCS_GukiW3QOJZA00jIXBT-PKdInhkliRZ6lc=s64",
      "userId": "09657090074134472846"
     },
     "user_tz": 420
    },
    "id": "SSjOHPw4HopF",
    "outputId": "f57b2beb-cd3f-40bc-8fd4-08b769c83480"
   },
   "outputs": [
    {
     "output_type": "stream",
     "name": "stderr",
     "text": [
      "[nltk_data] Downloading package punkt to /Users/aprilsin/nltk_data...\n[nltk_data]   Package punkt is already up-to-date!\n"
     ]
    }
   ],
   "source": [
    "from data import *\n",
    "from models import LanguageModel"
   ]
  },
  {
   "cell_type": "code",
   "execution_count": 5,
   "metadata": {
    "colab": {
     "base_uri": "https://localhost:8080/"
    },
    "executionInfo": {
     "elapsed": 34476,
     "status": "ok",
     "timestamp": 1616964616281,
     "user": {
      "displayName": "April Sin",
      "photoUrl": "https://lh3.googleusercontent.com/a-/AOh14GhaDqFCS_GukiW3QOJZA00jIXBT-PKdInhkliRZ6lc=s64",
      "userId": "09657090074134472846"
     },
     "user_tz": 420
    },
    "id": "sod7rjQhEZ-f",
    "outputId": "13f60f3d-b5cd-4953-88a6-7f34c500da0d"
   },
   "outputs": [
    {
     "output_type": "stream",
     "name": "stdout",
     "text": [
      "cpu\n"
     ]
    }
   ],
   "source": [
    "device = torch.device(\"cuda\" if torch.cuda.is_available() else \"cpu\")\n",
    "print(device)"
   ]
  },
  {
   "cell_type": "code",
   "execution_count": 6,
   "metadata": {
    "id": "GM5I19eZPHOM"
   },
   "outputs": [],
   "source": [
    "list_to_device = lambda th_obj: [tensor.to(device) for tensor in th_obj]"
   ]
  },
  {
   "cell_type": "markdown",
   "metadata": {
    "id": "PdLbOwAcfqBc"
   },
   "source": [
    "# Model Params"
   ]
  },
  {
   "cell_type": "code",
   "execution_count": 7,
   "metadata": {
    "id": "Iy1kMEptOpzJ"
   },
   "outputs": [],
   "source": [
    "MAX_LEN = 128\n",
    "MAX_LEN_VADER = 40\n",
    "BATCH_SIZE = 32\n",
    "EPOCHS = 5\n",
    "\n",
    "# Higher bound settings: MAX_LEN = 256 and BATCH_SIZE = 16"
   ]
  },
  {
   "cell_type": "markdown",
   "metadata": {
    "id": "hGxTNUc8qqjq"
   },
   "source": [
    "#  Data Preprocessing Functions"
   ]
  },
  {
   "cell_type": "markdown",
   "metadata": {
    "id": "J-HKrL4yEwnO"
   },
   "source": [
    "## load data"
   ]
  },
  {
   "cell_type": "code",
   "execution_count": null,
   "metadata": {
    "id": "jZL9NI9busFJ"
   },
   "outputs": [],
   "source": []
  },
  {
   "cell_type": "markdown",
   "metadata": {
    "id": "at2flD8Wg1nV"
   },
   "source": [
    "## data formatting"
   ]
  },
  {
   "cell_type": "markdown",
   "metadata": {
    "id": "M5YKeRALgX4-"
   },
   "source": [
    "### tokenize"
   ]
  },
  {
   "cell_type": "code",
   "execution_count": null,
   "metadata": {
    "id": "Oh2twiqQfNBd"
   },
   "outputs": [],
   "source": []
  },
  {
   "cell_type": "code",
   "execution_count": null,
   "metadata": {
    "id": "t-lRyY58Fdzo"
   },
   "outputs": [],
   "source": []
  },
  {
   "cell_type": "markdown",
   "metadata": {
    "id": "RyPCOdSzgaYU"
   },
   "source": [
    "### padding"
   ]
  },
  {
   "cell_type": "code",
   "execution_count": null,
   "metadata": {
    "id": "Jqr1GVExfo4J"
   },
   "outputs": [],
   "source": []
  },
  {
   "cell_type": "markdown",
   "metadata": {
    "id": "v419A-McO76J"
   },
   "source": [
    "### batching"
   ]
  },
  {
   "cell_type": "code",
   "execution_count": null,
   "metadata": {
    "id": "W9eCbz-mO-GD"
   },
   "outputs": [],
   "source": []
  },
  {
   "cell_type": "markdown",
   "metadata": {
    "id": "LBNc8FdKgf0a"
   },
   "source": [
    "### full data format"
   ]
  },
  {
   "cell_type": "code",
   "execution_count": null,
   "metadata": {
    "id": "uaVjAekFN22E"
   },
   "outputs": [],
   "source": []
  },
  {
   "cell_type": "markdown",
   "metadata": {
    "id": "U9K3qA8VmLDZ"
   },
   "source": [
    "### split dataset"
   ]
  },
  {
   "cell_type": "code",
   "execution_count": null,
   "metadata": {
    "id": "gduWzCvelhax"
   },
   "outputs": [],
   "source": []
  },
  {
   "cell_type": "markdown",
   "metadata": {
    "id": "EEoBjxheh-gb"
   },
   "source": [
    "# Data Preprocessing Code"
   ]
  },
  {
   "cell_type": "markdown",
   "metadata": {
    "id": "RruLo4HwiChr"
   },
   "source": [
    "## load data"
   ]
  },
  {
   "cell_type": "code",
   "execution_count": 35,
   "metadata": {
    "colab": {
     "base_uri": "https://localhost:8080/"
    },
    "executionInfo": {
     "elapsed": 5247,
     "status": "ok",
     "timestamp": 1616966308716,
     "user": {
      "displayName": "April Sin",
      "photoUrl": "https://lh3.googleusercontent.com/a-/AOh14GhaDqFCS_GukiW3QOJZA00jIXBT-PKdInhkliRZ6lc=s64",
      "userId": "09657090074134472846"
     },
     "user_tz": 420
    },
    "id": "wzS2NTJqc79K",
    "outputId": "ad67c5a6-6951-4492-8d7a-c64e836172ba"
   },
   "outputs": [
    {
     "name": "stdout",
     "output_type": "stream",
     "text": [
      "loaded 533581 data points\n"
     ]
    }
   ],
   "source": [
    "# load yelp data\n",
    "yelp_reviews = load_json(DATA_FOLDER / \"yelp_review_training_dataset.jsonl\")\n",
    "print(\"loaded\", len(yelp_reviews), \"data points\")"
   ]
  },
  {
   "cell_type": "code",
   "execution_count": 36,
   "metadata": {
    "colab": {
     "base_uri": "https://localhost:8080/",
     "height": 419
    },
    "executionInfo": {
     "elapsed": 4502,
     "status": "ok",
     "timestamp": 1616965963827,
     "user": {
      "displayName": "April Sin",
      "photoUrl": "https://lh3.googleusercontent.com/a-/AOh14GhaDqFCS_GukiW3QOJZA00jIXBT-PKdInhkliRZ6lc=s64",
      "userId": "09657090074134472846"
     },
     "user_tz": 420
    },
    "id": "Q2IzDWFoEPcZ",
    "outputId": "511b5f91-937f-4d50-efb8-f61ab45151a3"
   },
   "outputs": [
    {
     "data": {
      "text/html": [
       "<div>\n",
       "<style scoped>\n",
       "    .dataframe tbody tr th:only-of-type {\n",
       "        vertical-align: middle;\n",
       "    }\n",
       "\n",
       "    .dataframe tbody tr th {\n",
       "        vertical-align: top;\n",
       "    }\n",
       "\n",
       "    .dataframe thead th {\n",
       "        text-align: right;\n",
       "    }\n",
       "</style>\n",
       "<table border=\"1\" class=\"dataframe\">\n",
       "  <thead>\n",
       "    <tr style=\"text-align: right;\">\n",
       "      <th></th>\n",
       "      <th>review_id</th>\n",
       "      <th>text</th>\n",
       "      <th>stars</th>\n",
       "    </tr>\n",
       "  </thead>\n",
       "  <tbody>\n",
       "    <tr>\n",
       "      <th>0</th>\n",
       "      <td>Q1sbwvVQXV2734tPgoKj4Q</td>\n",
       "      <td>Total bill for this horrible service? Over $8G...</td>\n",
       "      <td>1.0</td>\n",
       "    </tr>\n",
       "    <tr>\n",
       "      <th>1</th>\n",
       "      <td>GJXCdrto3ASJOqKeVWPi6Q</td>\n",
       "      <td>I *adore* Travis at the Hard Rock's new Kelly ...</td>\n",
       "      <td>5.0</td>\n",
       "    </tr>\n",
       "    <tr>\n",
       "      <th>2</th>\n",
       "      <td>2TzJjDVDEuAW6MR5Vuc1ug</td>\n",
       "      <td>I have to say that this office really has it t...</td>\n",
       "      <td>5.0</td>\n",
       "    </tr>\n",
       "    <tr>\n",
       "      <th>3</th>\n",
       "      <td>yi0R0Ugj_xUx_Nek0-_Qig</td>\n",
       "      <td>Went in for a lunch. Steak sandwich was delici...</td>\n",
       "      <td>5.0</td>\n",
       "    </tr>\n",
       "    <tr>\n",
       "      <th>4</th>\n",
       "      <td>11a8sVPMUFtaC7_ABRkmtw</td>\n",
       "      <td>Today was my second out of three sessions I ha...</td>\n",
       "      <td>1.0</td>\n",
       "    </tr>\n",
       "    <tr>\n",
       "      <th>...</th>\n",
       "      <td>...</td>\n",
       "      <td>...</td>\n",
       "      <td>...</td>\n",
       "    </tr>\n",
       "    <tr>\n",
       "      <th>533576</th>\n",
       "      <td>2vQO_kmSr6YPBrR8GH_FPA</td>\n",
       "      <td>Dr Young and her assistants take obvious pride...</td>\n",
       "      <td>5.0</td>\n",
       "    </tr>\n",
       "    <tr>\n",
       "      <th>533577</th>\n",
       "      <td>DUdLTGVpgsi0sv_g4A5ITQ</td>\n",
       "      <td>We started our 20 month of daughter here on an...</td>\n",
       "      <td>5.0</td>\n",
       "    </tr>\n",
       "    <tr>\n",
       "      <th>533578</th>\n",
       "      <td>AKGELpRNTTXajuZHbPxdJg</td>\n",
       "      <td>First of all, they are supposed to open at 9:0...</td>\n",
       "      <td>2.0</td>\n",
       "    </tr>\n",
       "    <tr>\n",
       "      <th>533579</th>\n",
       "      <td>ghYZM7lqzjej05I_T3vYyA</td>\n",
       "      <td>It's not often that you visit a company and th...</td>\n",
       "      <td>5.0</td>\n",
       "    </tr>\n",
       "    <tr>\n",
       "      <th>533580</th>\n",
       "      <td>gupUBwWRb13IvQhlKd6wdg</td>\n",
       "      <td>We had great experience with quest limos this ...</td>\n",
       "      <td>5.0</td>\n",
       "    </tr>\n",
       "  </tbody>\n",
       "</table>\n",
       "<p>533581 rows × 3 columns</p>\n",
       "</div>"
      ],
      "text/plain": [
       "                     review_id  \\\n",
       "0       Q1sbwvVQXV2734tPgoKj4Q   \n",
       "1       GJXCdrto3ASJOqKeVWPi6Q   \n",
       "2       2TzJjDVDEuAW6MR5Vuc1ug   \n",
       "3       yi0R0Ugj_xUx_Nek0-_Qig   \n",
       "4       11a8sVPMUFtaC7_ABRkmtw   \n",
       "...                        ...   \n",
       "533576  2vQO_kmSr6YPBrR8GH_FPA   \n",
       "533577  DUdLTGVpgsi0sv_g4A5ITQ   \n",
       "533578  AKGELpRNTTXajuZHbPxdJg   \n",
       "533579  ghYZM7lqzjej05I_T3vYyA   \n",
       "533580  gupUBwWRb13IvQhlKd6wdg   \n",
       "\n",
       "                                                     text  stars  \n",
       "0       Total bill for this horrible service? Over $8G...    1.0  \n",
       "1       I *adore* Travis at the Hard Rock's new Kelly ...    5.0  \n",
       "2       I have to say that this office really has it t...    5.0  \n",
       "3       Went in for a lunch. Steak sandwich was delici...    5.0  \n",
       "4       Today was my second out of three sessions I ha...    1.0  \n",
       "...                                                   ...    ...  \n",
       "533576  Dr Young and her assistants take obvious pride...    5.0  \n",
       "533577  We started our 20 month of daughter here on an...    5.0  \n",
       "533578  First of all, they are supposed to open at 9:0...    2.0  \n",
       "533579  It's not often that you visit a company and th...    5.0  \n",
       "533580  We had great experience with quest limos this ...    5.0  \n",
       "\n",
       "[533581 rows x 3 columns]"
      ]
     },
     "metadata": {},
     "output_type": "display_data"
    }
   ],
   "source": [
    "display(yelp_reviews)"
   ]
  },
  {
   "cell_type": "markdown",
   "metadata": {
    "id": "cd2SXk_agslk"
   },
   "source": [
    "## format + split data into train, val, and test sets"
   ]
  },
  {
   "cell_type": "code",
   "execution_count": 37,
   "metadata": {
    "colab": {
     "base_uri": "https://localhost:8080/"
    },
    "executionInfo": {
     "elapsed": 3096,
     "status": "ok",
     "timestamp": 1616965965653,
     "user": {
      "displayName": "April Sin",
      "photoUrl": "https://lh3.googleusercontent.com/a-/AOh14GhaDqFCS_GukiW3QOJZA00jIXBT-PKdInhkliRZ6lc=s64",
      "userId": "09657090074134472846"
     },
     "user_tz": 420
    },
    "id": "PGEdPRpbhb9z",
    "outputId": "163b1ccb-dc09-49ad-b22d-9759f9cf94b9"
   },
   "outputs": [
    {
     "name": "stderr",
     "output_type": "stream",
     "text": [
      "Using cache found in /Users/aprilsin/.cache/torch/hub/huggingface_pytorch-transformers_master\n"
     ]
    },
    {
     "ename": "RuntimeError",
     "evalue": "Missing dependencies: importlib_metadata, huggingface_hub",
     "output_type": "error",
     "traceback": [
      "\u001b[0;31m---------------------------------------------------------------------------\u001b[0m",
      "\u001b[0;31mRuntimeError\u001b[0m                              Traceback (most recent call last)",
      "\u001b[0;32m<ipython-input-37-15392cb1159f>\u001b[0m in \u001b[0;36m<module>\u001b[0;34m\u001b[0m\n\u001b[0;32m----> 1\u001b[0;31m \u001b[0mxlnet_tokenizer\u001b[0m \u001b[0;34m=\u001b[0m \u001b[0mtorch\u001b[0m\u001b[0;34m.\u001b[0m\u001b[0mhub\u001b[0m\u001b[0;34m.\u001b[0m\u001b[0mload\u001b[0m\u001b[0;34m(\u001b[0m\u001b[0;34m'huggingface/pytorch-transformers'\u001b[0m\u001b[0;34m,\u001b[0m \u001b[0;34m'tokenizer'\u001b[0m\u001b[0;34m,\u001b[0m \u001b[0;34m'xlnet-base-cased'\u001b[0m\u001b[0;34m)\u001b[0m\u001b[0;34m\u001b[0m\u001b[0;34m\u001b[0m\u001b[0m\n\u001b[0m\u001b[1;32m      2\u001b[0m \u001b[0;31m# tokenize_review(xlnet_tokenizer, \"I love this grub!\")\u001b[0m\u001b[0;34m\u001b[0m\u001b[0;34m\u001b[0m\u001b[0;34m\u001b[0m\u001b[0m\n",
      "\u001b[0;32m~/Library/Python/3.8/lib/python/site-packages/torch/hub.py\u001b[0m in \u001b[0;36mload\u001b[0;34m(repo_or_dir, model, *args, **kwargs)\u001b[0m\n\u001b[1;32m    368\u001b[0m         \u001b[0mrepo_or_dir\u001b[0m \u001b[0;34m=\u001b[0m \u001b[0m_get_cache_or_reload\u001b[0m\u001b[0;34m(\u001b[0m\u001b[0mrepo_or_dir\u001b[0m\u001b[0;34m,\u001b[0m \u001b[0mforce_reload\u001b[0m\u001b[0;34m,\u001b[0m \u001b[0mverbose\u001b[0m\u001b[0;34m)\u001b[0m\u001b[0;34m\u001b[0m\u001b[0;34m\u001b[0m\u001b[0m\n\u001b[1;32m    369\u001b[0m \u001b[0;34m\u001b[0m\u001b[0m\n\u001b[0;32m--> 370\u001b[0;31m     \u001b[0mmodel\u001b[0m \u001b[0;34m=\u001b[0m \u001b[0m_load_local\u001b[0m\u001b[0;34m(\u001b[0m\u001b[0mrepo_or_dir\u001b[0m\u001b[0;34m,\u001b[0m \u001b[0mmodel\u001b[0m\u001b[0;34m,\u001b[0m \u001b[0;34m*\u001b[0m\u001b[0margs\u001b[0m\u001b[0;34m,\u001b[0m \u001b[0;34m**\u001b[0m\u001b[0mkwargs\u001b[0m\u001b[0;34m)\u001b[0m\u001b[0;34m\u001b[0m\u001b[0;34m\u001b[0m\u001b[0m\n\u001b[0m\u001b[1;32m    371\u001b[0m     \u001b[0;32mreturn\u001b[0m \u001b[0mmodel\u001b[0m\u001b[0;34m\u001b[0m\u001b[0;34m\u001b[0m\u001b[0m\n\u001b[1;32m    372\u001b[0m \u001b[0;34m\u001b[0m\u001b[0m\n",
      "\u001b[0;32m~/Library/Python/3.8/lib/python/site-packages/torch/hub.py\u001b[0m in \u001b[0;36m_load_local\u001b[0;34m(hubconf_dir, model, *args, **kwargs)\u001b[0m\n\u001b[1;32m    396\u001b[0m     \u001b[0mhub_module\u001b[0m \u001b[0;34m=\u001b[0m \u001b[0mimport_module\u001b[0m\u001b[0;34m(\u001b[0m\u001b[0mMODULE_HUBCONF\u001b[0m\u001b[0;34m,\u001b[0m \u001b[0mhubconf_path\u001b[0m\u001b[0;34m)\u001b[0m\u001b[0;34m\u001b[0m\u001b[0;34m\u001b[0m\u001b[0m\n\u001b[1;32m    397\u001b[0m \u001b[0;34m\u001b[0m\u001b[0m\n\u001b[0;32m--> 398\u001b[0;31m     \u001b[0mentry\u001b[0m \u001b[0;34m=\u001b[0m \u001b[0m_load_entry_from_hubconf\u001b[0m\u001b[0;34m(\u001b[0m\u001b[0mhub_module\u001b[0m\u001b[0;34m,\u001b[0m \u001b[0mmodel\u001b[0m\u001b[0;34m)\u001b[0m\u001b[0;34m\u001b[0m\u001b[0;34m\u001b[0m\u001b[0m\n\u001b[0m\u001b[1;32m    399\u001b[0m     \u001b[0mmodel\u001b[0m \u001b[0;34m=\u001b[0m \u001b[0mentry\u001b[0m\u001b[0;34m(\u001b[0m\u001b[0;34m*\u001b[0m\u001b[0margs\u001b[0m\u001b[0;34m,\u001b[0m \u001b[0;34m**\u001b[0m\u001b[0mkwargs\u001b[0m\u001b[0;34m)\u001b[0m\u001b[0;34m\u001b[0m\u001b[0;34m\u001b[0m\u001b[0m\n\u001b[1;32m    400\u001b[0m \u001b[0;34m\u001b[0m\u001b[0m\n",
      "\u001b[0;32m~/Library/Python/3.8/lib/python/site-packages/torch/hub.py\u001b[0m in \u001b[0;36m_load_entry_from_hubconf\u001b[0;34m(m, model)\u001b[0m\n\u001b[1;32m    211\u001b[0m     \u001b[0;31m# load hubconf to know what're the dependencies, but to import hubconf it requires\u001b[0m\u001b[0;34m\u001b[0m\u001b[0;34m\u001b[0m\u001b[0;34m\u001b[0m\u001b[0m\n\u001b[1;32m    212\u001b[0m     \u001b[0;31m# a missing package. This is fine, Python will throw proper error message for users.\u001b[0m\u001b[0;34m\u001b[0m\u001b[0;34m\u001b[0m\u001b[0;34m\u001b[0m\u001b[0m\n\u001b[0;32m--> 213\u001b[0;31m     \u001b[0m_check_dependencies\u001b[0m\u001b[0;34m(\u001b[0m\u001b[0mm\u001b[0m\u001b[0;34m)\u001b[0m\u001b[0;34m\u001b[0m\u001b[0;34m\u001b[0m\u001b[0m\n\u001b[0m\u001b[1;32m    214\u001b[0m \u001b[0;34m\u001b[0m\u001b[0m\n\u001b[1;32m    215\u001b[0m     \u001b[0mfunc\u001b[0m \u001b[0;34m=\u001b[0m \u001b[0m_load_attr_from_module\u001b[0m\u001b[0;34m(\u001b[0m\u001b[0mm\u001b[0m\u001b[0;34m,\u001b[0m \u001b[0mmodel\u001b[0m\u001b[0;34m)\u001b[0m\u001b[0;34m\u001b[0m\u001b[0;34m\u001b[0m\u001b[0m\n",
      "\u001b[0;32m~/Library/Python/3.8/lib/python/site-packages/torch/hub.py\u001b[0m in \u001b[0;36m_check_dependencies\u001b[0;34m(m)\u001b[0m\n\u001b[1;32m    200\u001b[0m         \u001b[0mmissing_deps\u001b[0m \u001b[0;34m=\u001b[0m \u001b[0;34m[\u001b[0m\u001b[0mpkg\u001b[0m \u001b[0;32mfor\u001b[0m \u001b[0mpkg\u001b[0m \u001b[0;32min\u001b[0m \u001b[0mdependencies\u001b[0m \u001b[0;32mif\u001b[0m \u001b[0;32mnot\u001b[0m \u001b[0m_check_module_exists\u001b[0m\u001b[0;34m(\u001b[0m\u001b[0mpkg\u001b[0m\u001b[0;34m)\u001b[0m\u001b[0;34m]\u001b[0m\u001b[0;34m\u001b[0m\u001b[0;34m\u001b[0m\u001b[0m\n\u001b[1;32m    201\u001b[0m         \u001b[0;32mif\u001b[0m \u001b[0mlen\u001b[0m\u001b[0;34m(\u001b[0m\u001b[0mmissing_deps\u001b[0m\u001b[0;34m)\u001b[0m\u001b[0;34m:\u001b[0m\u001b[0;34m\u001b[0m\u001b[0;34m\u001b[0m\u001b[0m\n\u001b[0;32m--> 202\u001b[0;31m             \u001b[0;32mraise\u001b[0m \u001b[0mRuntimeError\u001b[0m\u001b[0;34m(\u001b[0m\u001b[0;34m'Missing dependencies: {}'\u001b[0m\u001b[0;34m.\u001b[0m\u001b[0mformat\u001b[0m\u001b[0;34m(\u001b[0m\u001b[0;34m', '\u001b[0m\u001b[0;34m.\u001b[0m\u001b[0mjoin\u001b[0m\u001b[0;34m(\u001b[0m\u001b[0mmissing_deps\u001b[0m\u001b[0;34m)\u001b[0m\u001b[0;34m)\u001b[0m\u001b[0;34m)\u001b[0m\u001b[0;34m\u001b[0m\u001b[0;34m\u001b[0m\u001b[0m\n\u001b[0m\u001b[1;32m    203\u001b[0m \u001b[0;34m\u001b[0m\u001b[0m\n\u001b[1;32m    204\u001b[0m \u001b[0;34m\u001b[0m\u001b[0m\n",
      "\u001b[0;31mRuntimeError\u001b[0m: Missing dependencies: importlib_metadata, huggingface_hub"
     ]
    }
   ],
   "source": [
    "from transfomers import BertTokenizer\n",
    "from transfomers import BertForSequenceClassification\n",
    "\n",
    "base_model = BertForSequenceClassification.from_pretrained(\n",
    "    \"bert-base-cased\", num_labels=200\n",
    ")\n",
    "model_tokenizer = torch.hub.load(\n",
    "    \"huggingface/pytorch-transformers\", \"tokenizer\", \"xlnet-base-cased\"\n",
    ")\n",
    "\n",
    "base_model.classifier.add_module('bert_activation', nn.Tanh())\n",
    "base_model.classifier.add_module('prediction', nn.Linear(200, 5))\n",
    "# tokenize_review(model_tokenizer, \"I love this grub!\")"
   ]
  },
  {
   "cell_type": "code",
   "execution_count": null,
   "metadata": {
    "id": "ob81x3cLiXAv"
   },
   "outputs": [],
   "source": [
    "# train 75% | validation 15% | test 10%\n",
    "train_ratio = .75\n",
    "validate_ratio = .15\n",
    "test_ratio = .10\n",
    "assert train_ratio + validate_ratio + test_ratio == 1"
   ]
  },
  {
   "cell_type": "code",
   "execution_count": null,
   "metadata": {
    "id": "Q6xjrhkzjUcm"
   },
   "outputs": [],
   "source": [
    "train_reviews, validate_reviews, test_reviews = train_validate_test_split(yelp_reviews, train_ratio, validate_ratio)\n",
    "# train_reviews_df, val_reviews_df, test_reviews_df = train_validate_test_split(yelp_reviews, train_ratio, validate_ratio)"
   ]
  },
  {
   "cell_type": "code",
   "execution_count": null,
   "metadata": {
    "id": "gdzwOc54jUkf"
   },
   "outputs": [],
   "source": [
    "# train_reviews, train_reviews_target, train_reviews_mask = format_reviews(xlnet_tokenizer, train_reviews_df)\n",
    "# validate_reviews, test_reviews_target, validate_reviews_mask = format_reviews(xlnet_tokenizer, validate_reviews_df)\n",
    "# test_reviews, test_reviews_target, _ = format_reviews(xlnet_tokenizer, test_reviews_df)"
   ]
  },
  {
   "cell_type": "code",
   "execution_count": null,
   "metadata": {
    "colab": {
     "base_uri": "https://localhost:8080/",
     "height": 436
    },
    "executionInfo": {
     "elapsed": 439,
     "status": "ok",
     "timestamp": 1616966479909,
     "user": {
      "displayName": "April Sin",
      "photoUrl": "https://lh3.googleusercontent.com/a-/AOh14GhaDqFCS_GukiW3QOJZA00jIXBT-PKdInhkliRZ6lc=s64",
      "userId": "09657090074134472846"
     },
     "user_tz": 420
    },
    "id": "niyVE-CHsO2r",
    "outputId": "a1baa96c-4713-428a-ff14-1b87731cb4d7"
   },
   "outputs": [],
   "source": [
    "print(len(train_reviews.index), \"yelp reviews for training\")\n",
    "train_reviews"
   ]
  },
  {
   "cell_type": "code",
   "execution_count": null,
   "metadata": {
    "colab": {
     "base_uri": "https://localhost:8080/",
     "height": 436
    },
    "executionInfo": {
     "elapsed": 434,
     "status": "ok",
     "timestamp": 1616966519901,
     "user": {
      "displayName": "April Sin",
      "photoUrl": "https://lh3.googleusercontent.com/a-/AOh14GhaDqFCS_GukiW3QOJZA00jIXBT-PKdInhkliRZ6lc=s64",
      "userId": "09657090074134472846"
     },
     "user_tz": 420
    },
    "id": "84p74Bn8sRb8",
    "outputId": "e34e9d64-2322-4459-9fd3-d782e7062441"
   },
   "outputs": [],
   "source": [
    "print(len(validate_reviews.index), \"yelp reviews for validation\")\n",
    "validate_reviews"
   ]
  },
  {
   "cell_type": "code",
   "execution_count": null,
   "metadata": {
    "colab": {
     "base_uri": "https://localhost:8080/",
     "height": 436
    },
    "executionInfo": {
     "elapsed": 253,
     "status": "ok",
     "timestamp": 1616966414947,
     "user": {
      "displayName": "April Sin",
      "photoUrl": "https://lh3.googleusercontent.com/a-/AOh14GhaDqFCS_GukiW3QOJZA00jIXBT-PKdInhkliRZ6lc=s64",
      "userId": "09657090074134472846"
     },
     "user_tz": 420
    },
    "id": "Ox01raxTsnyC",
    "outputId": "d57cfd8b-36f1-4936-d3a1-4986d18677ce"
   },
   "outputs": [],
   "source": [
    "print(len(test_reviews.index), \"yelp reviews for testing\")\n",
    "test_reviews"
   ]
  },
  {
   "cell_type": "markdown",
   "metadata": {
    "id": "_whw8dsGflSM"
   },
   "source": [
    "# Model"
   ]
  },
  {
   "cell_type": "markdown",
   "metadata": {
    "id": "1lIKIVDkqkQw"
   },
   "source": [
    "## model construction"
   ]
  },
  {
   "cell_type": "code",
   "execution_count": 18,
   "metadata": {
    "colab": {
     "base_uri": "https://localhost:8080/",
     "height": 164
    },
    "executionInfo": {
     "elapsed": 255,
     "status": "error",
     "timestamp": 1616966583567,
     "user": {
      "displayName": "April Sin",
      "photoUrl": "https://lh3.googleusercontent.com/a-/AOh14GhaDqFCS_GukiW3QOJZA00jIXBT-PKdInhkliRZ6lc=s64",
      "userId": "09657090074134472846"
     },
     "user_tz": 420
    },
    "id": "-gjNUgbnt5E_",
    "outputId": "231d7012-119f-4fe5-b50f-bb4b64d88769"
   },
   "outputs": [
    {
     "ename": "NameError",
     "evalue": "name 'MAX_LEN_VADER' is not defined",
     "output_type": "error",
     "traceback": [
      "\u001b[0;31m---------------------------------------------------------------------------\u001b[0m",
      "\u001b[0;31mNameError\u001b[0m                                 Traceback (most recent call last)",
      "\u001b[0;32m<ipython-input-18-c90e532b3fc3>\u001b[0m in \u001b[0;36m<module>\u001b[0;34m\u001b[0m\n\u001b[0;32m----> 1\u001b[0;31m \u001b[0mmodel\u001b[0m \u001b[0;34m=\u001b[0m \u001b[0mLanguageModel\u001b[0m\u001b[0;34m(\u001b[0m\u001b[0mvocab_size\u001b[0m\u001b[0;34m=\u001b[0m\u001b[0mMAX_LEN\u001b[0m\u001b[0;34m,\u001b[0m \u001b[0mrnn_size\u001b[0m\u001b[0;34m=\u001b[0m\u001b[0;36m256\u001b[0m\u001b[0;34m,\u001b[0m \u001b[0mvader_size\u001b[0m\u001b[0;34m=\u001b[0m\u001b[0mMAX_LEN_VADER\u001b[0m\u001b[0;34m)\u001b[0m\u001b[0;34m\u001b[0m\u001b[0;34m\u001b[0m\u001b[0m\n\u001b[0m",
      "\u001b[0;31mNameError\u001b[0m: name 'MAX_LEN_VADER' is not defined"
     ]
    }
   ],
   "source": [
    "model = LanguageModel(vocab_size=MAX_LEN, rnn_size=256, vader_size=MAX_LEN_VADER)"
   ]
  },
  {
   "cell_type": "markdown",
   "metadata": {
    "id": "pqmGvbHYGRfZ"
   },
   "source": [
    "## train the model"
   ]
  },
  {
   "cell_type": "code",
   "execution_count": null,
   "metadata": {
    "id": "oJqPzEHrc8iU"
   },
   "outputs": [],
   "source": [
    "# set model to training mode\n",
    "model.train()"
   ]
  },
  {
   "cell_type": "code",
   "execution_count": null,
   "metadata": {
    "id": "Uj1oMxxdyb_g"
   },
   "outputs": [],
   "source": [
    "# https://pytorch.org/tutorials/beginner/transfer_learning_tutorial.html\n",
    "\n",
    "# TODO: fix this block\n",
    "DATASET = train_reviews\n",
    "\n",
    "\n",
    "since = time.time()\n",
    "\n",
    "# start training\n",
    "for epoch in range(num_epochs):\n",
    "    indices = np.random.permutation(range(DATASET.size))\n",
    "    t = tqdm.notebook.tqdm(range(0, (DATASET.size // batch_size) + 1))\n",
    "\n",
    "    for i in t:\n",
    "        # batch\n",
    "        batch = format_reviews(\n",
    "            model_tokenizer, DATASET, indices[i * batch_size : (i + 1) * batch_size]\n",
    "        )\n",
    "        (batch_input, batch_target, batch_target_mask) = batch_to_torch(*batch)\n",
    "        for item in (batch_input, batch_target, batch_target_mask):\n",
    "            print(item.size())\n",
    "        (batch_input, batch_target, batch_target_mask) = list_to_device(\n",
    "            (batch_input, batch_target, batch_target_mask)\n",
    "        )\n",
    "\n",
    "        # forward pass\n",
    "        prediction = model.forward(batch_input)\n",
    "        loss = loss_fn(prediction, batch_target, batch_target_mask)\n",
    "        losses.append(loss.item())\n",
    "        accuracy = (\n",
    "            th.eq(prediction.argmax(dim=2, keepdim=False), batch_target).float()\n",
    "            * batch_target_mask\n",
    "        ).sum() / batch_target_mask.sum()\n",
    "        accuracies.append(accuracy.item())\n",
    "\n",
    "        # backward pass\n",
    "        optimizer.zero_grad()\n",
    "        loss.backward()\n",
    "        optimizer.step()\n",
    "\n",
    "        # visuallize data\n",
    "        if i % 100 == 0:\n",
    "            batch_val = build_batch(d_valid, range(len(d_valid)))\n",
    "            (batch_input_val, batch_target_val, batch_target_mask_val) = list_to_device(\n",
    "                batch_to_torch(*batch_val)\n",
    "            )\n",
    "            prediction_val = model.forward(batch_input_val)\n",
    "            loss_val = loss_fn(prediction_val, batch_target_val, batch_target_mask_val)\n",
    "            print(\"Evaluation set loss:\", loss_val.item())\n",
    "            print(\n",
    "                f\"Epoch: {epoch} Iteration: {i} Loss: {np.mean(losses[-10:])} Accuracy: {np.mean(accuracies[-10:])}\"\n",
    "            )"
   ]
  },
  {
   "cell_type": "markdown",
   "metadata": {
    "id": "W0YY9el9Hkhs"
   },
   "source": [
    "## evaluate model"
   ]
  },
  {
   "cell_type": "code",
   "execution_count": null,
   "metadata": {
    "id": "_DL1R1fIHj-o"
   },
   "outputs": [],
   "source": [
    "# set model to evaluation model\n",
    "model.eval()"
   ]
  },
  {
   "cell_type": "code",
   "execution_count": null,
   "metadata": {
    "id": "EKvR5mfjHrpO"
   },
   "outputs": [],
   "source": [
    "# model(yelp_ratings[\"text\"])"
   ]
  },
  {
   "cell_type": "code",
   "execution_count": null,
   "metadata": {
    "id": "KUD62TccVGEh"
   },
   "outputs": [],
   "source": []
  }
 ],
 "metadata": {
  "colab": {
   "collapsed_sections": [],
   "name": "cs182-nlp-april.ipynb",
   "provenance": []
  },
  "kernelspec": {
   "name": "python382jvsc74a57bd031f2aee4e71d21fbe5cf8b01ff0e069b9275f58929596ceb00d14d90e3e16cd6",
   "display_name": "Python 3.8.2 64-bit"
  },
  "language_info": {
   "codemirror_mode": {
    "name": "ipython",
    "version": 3
   },
   "file_extension": ".py",
   "mimetype": "text/x-python",
   "name": "python",
   "nbconvert_exporter": "python",
   "pygments_lexer": "ipython3",
   "version": "3.8.2"
  },
  "metadata": {
   "interpreter": {
    "hash": "31f2aee4e71d21fbe5cf8b01ff0e069b9275f58929596ceb00d14d90e3e16cd6"
   }
  }
 },
 "nbformat": 4,
 "nbformat_minor": 4
}
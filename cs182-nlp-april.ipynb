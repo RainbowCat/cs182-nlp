{
 "cells": [
  {
   "cell_type": "markdown",
   "metadata": {
    "id": "XghaLOekxmy3"
   },
   "source": [
    "# Global Setup"
   ]
  },
  {
   "cell_type": "code",
   "execution_count": 1,
   "metadata": {
    "ExecuteTime": {
     "end_time": "2021-05-11T01:56:22.233933Z",
     "start_time": "2021-05-11T01:56:22.227437Z"
    }
   },
   "outputs": [
    {
     "name": "stdout",
     "output_type": "stream",
     "text": [
      "The autoreload extension is already loaded. To reload it, use:\n",
      "  %reload_ext autoreload\n"
     ]
    }
   ],
   "source": [
    "%load_ext autoreload\n",
    "%autoreload 2"
   ]
  },
  {
   "cell_type": "code",
   "execution_count": 2,
   "metadata": {
    "ExecuteTime": {
     "end_time": "2021-05-11T01:56:24.012064Z",
     "start_time": "2021-05-11T01:56:22.628150Z"
    },
    "executionInfo": {
     "elapsed": 3004,
     "status": "ok",
     "timestamp": 1620179942399,
     "user": {
      "displayName": "April Sin",
      "photoUrl": "https://lh3.googleusercontent.com/a-/AOh14GhaDqFCS_GukiW3QOJZA00jIXBT-PKdInhkliRZ6lc=s64",
      "userId": "09657090074134472846"
     },
     "user_tz": 420
    },
    "id": "teIgRhnAcOfK"
   },
   "outputs": [],
   "source": [
    "import os\n",
    "import sys\n",
    "from pathlib import Path\n",
    "\n",
    "import json\n",
    "import pandas as pd\n",
    "import random\n",
    "\n",
    "\n",
    "import tqdm\n",
    "\n",
    "from vaderSentiment.vaderSentiment import SentimentIntensityAnalyzer\n",
    "\n",
    "import torch\n",
    "import torch.nn as nn\n",
    "import torch.optim as optim\n",
    "from torch.optim import lr_scheduler\n",
    "import numpy as np\n",
    "import torchvision\n",
    "from torchvision import datasets, models, transforms\n",
    "import matplotlib.pyplot as plt\n",
    "import time\n",
    "import os\n",
    "import copy\n",
    "\n",
    "import huggingface_hub\n",
    "\n",
    "import pickle\n",
    "\n",
    "import pytorch_lightning as pl\n",
    "\n",
    "import data\n",
    "import models"
   ]
  },
  {
   "cell_type": "code",
   "execution_count": 5,
   "metadata": {
    "ExecuteTime": {
     "end_time": "2021-05-11T01:56:24.059017Z",
     "start_time": "2021-05-11T01:56:24.044609Z"
    },
    "executionInfo": {
     "elapsed": 766,
     "status": "ok",
     "timestamp": 1620179942401,
     "user": {
      "displayName": "April Sin",
      "photoUrl": "https://lh3.googleusercontent.com/a-/AOh14GhaDqFCS_GukiW3QOJZA00jIXBT-PKdInhkliRZ6lc=s64",
      "userId": "09657090074134472846"
     },
     "user_tz": 420
    },
    "id": "T6NrAREFVU6N"
   },
   "outputs": [],
   "source": [
    "DATA_FOLDER = Path(\"starter\")"
   ]
  },
  {
   "cell_type": "code",
   "execution_count": 21,
   "metadata": {
    "ExecuteTime": {
     "end_time": "2021-05-11T02:41:02.952525Z",
     "start_time": "2021-05-11T02:41:02.926251Z"
    }
   },
   "outputs": [],
   "source": [
    "from argparse import Namespace\n",
    "\n",
    "args = Namespace(\n",
    "    batch_size=32,\n",
    "    epochs=10,\n",
    "    max_len=128,\n",
    "    max_len_vader=40,\n",
    "    use_bert=False,\n",
    "    use_cnn=False,\n",
    "    use_vader=False,\n",
    ")"
   ]
  },
  {
   "cell_type": "code",
   "execution_count": 18,
   "metadata": {
    "ExecuteTime": {
     "end_time": "2021-05-11T02:38:14.876253Z",
     "start_time": "2021-05-11T02:24:55.537076Z"
    },
    "scrolled": false
   },
   "outputs": [
    {
     "name": "stderr",
     "output_type": "stream",
     "text": [
      "[nltk_data] Downloading package punkt to\n",
      "[nltk_data]     /Users/alokbeniwal/nltk_data...\n",
      "[nltk_data]   Package punkt is already up-to-date!\n"
     ]
    },
    {
     "name": "stdout",
     "output_type": "stream",
     "text": [
      "creating dataset\n"
     ]
    },
    {
     "name": "stderr",
     "output_type": "stream",
     "text": [
      "Using cache found in /Users/alokbeniwal/.cache/torch/hub/huggingface_pytorch-transformers_master\n",
      "533581it [13:07, 677.79it/s]\n"
     ]
    }
   ],
   "source": [
    "try:\n",
    "    yelp_dataset = pickle.load(\"datamodule.pkl\")\n",
    "except:\n",
    "    yelp_dataset = data.YelpDataModule(\n",
    "        args, data_path=\"starter/yelp_review_training_dataset.jsonl\"\n",
    "    )\n",
    "    with open(\"datamodule.pkl\", \"wb\") as f:\n",
    "        pickle.dump(yelp_dataset, f)"
   ]
  },
  {
   "cell_type": "code",
   "execution_count": 22,
   "metadata": {
    "ExecuteTime": {
     "end_time": "2021-05-11T02:43:51.945402Z",
     "start_time": "2021-05-11T02:41:09.296897Z"
    },
    "colab": {
     "base_uri": "https://localhost:8080/",
     "height": 164
    },
    "executionInfo": {
     "elapsed": 255,
     "status": "error",
     "timestamp": 1616966583567,
     "user": {
      "displayName": "April Sin",
      "photoUrl": "https://lh3.googleusercontent.com/a-/AOh14GhaDqFCS_GukiW3QOJZA00jIXBT-PKdInhkliRZ6lc=s64",
      "userId": "09657090074134472846"
     },
     "user_tz": 420
    },
    "id": "-gjNUgbnt5E_",
    "outputId": "231d7012-119f-4fe5-b50f-bb4b64d88769"
   },
   "outputs": [
    {
     "name": "stderr",
     "output_type": "stream",
     "text": [
      "Using cache found in /Users/alokbeniwal/.cache/torch/hub/huggingface_pytorch-transformers_master\n",
      "Using cache found in /Users/alokbeniwal/.cache/torch/hub/huggingface_pytorch-transformers_master\n"
     ]
    },
    {
     "data": {
      "application/vnd.jupyter.widget-view+json": {
       "model_id": "37ad0315df0d41c484e9823239ebf531",
       "version_major": 2,
       "version_minor": 0
      },
      "text/plain": [
       "Downloading:   0%|          | 0.00/467M [00:00<?, ?B/s]"
      ]
     },
     "metadata": {},
     "output_type": "display_data"
    },
    {
     "name": "stdout",
     "output_type": "stream",
     "text": [
      "1 100\n"
     ]
    }
   ],
   "source": [
    "model = models.LanguageModel(\n",
    "    args,\n",
    ")"
   ]
  },
  {
   "cell_type": "code",
   "execution_count": null,
   "metadata": {
    "ExecuteTime": {
     "start_time": "2021-05-11T02:45:35.782Z"
    }
   },
   "outputs": [
    {
     "name": "stderr",
     "output_type": "stream",
     "text": [
      "[nltk_data] Downloading package punkt to\n",
      "[nltk_data]     /Users/alokbeniwal/nltk_data...\n",
      "[nltk_data]   Package punkt is already up-to-date!\n",
      "GPU available: False, used: False\n",
      "TPU available: False, using: 0 TPU cores\n"
     ]
    }
   ],
   "source": [
    "trainer = pl.Trainer()\n",
    "trainer.fit(model, datamodule=yelp_dataset)\n",
    "trainer.validate(model, datamodule=yelp_dataset)"
   ]
  }
 ],
 "metadata": {
  "colab": {
   "collapsed_sections": [],
   "name": "cs182-nlp-april.ipynb",
   "provenance": []
  },
  "kernelspec": {
   "display_name": "Python 3",
   "language": "python",
   "name": "python3"
  },
  "language_info": {
   "codemirror_mode": {
    "name": "ipython",
    "version": 3
   },
   "file_extension": ".py",
   "mimetype": "text/x-python",
   "name": "python",
   "nbconvert_exporter": "python",
   "pygments_lexer": "ipython3",
   "version": "3.9.5"
  },
  "metadata": {
   "interpreter": {
    "hash": "31f2aee4e71d21fbe5cf8b01ff0e069b9275f58929596ceb00d14d90e3e16cd6"
   }
  },
  "toc": {
   "base_numbering": 1,
   "nav_menu": {},
   "number_sections": true,
   "sideBar": true,
   "skip_h1_title": true,
   "title_cell": "Table of Contents",
   "title_sidebar": "Contents",
   "toc_cell": false,
   "toc_position": {},
   "toc_section_display": true,
   "toc_window_display": false
  }
 },
 "nbformat": 4,
 "nbformat_minor": 4
}
